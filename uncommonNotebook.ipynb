{
 "cells": [
  {
   "cell_type": "markdown",
   "id": "d8f0be44-bf6e-4356-ad61-8232d48e57e1",
   "metadata": {},
   "source": [
    "# Task: AP Data - Data Preparation\n"
   ]
  },
  {
   "cell_type": "code",
   "execution_count": 1,
   "id": "a32725d2-2cf4-41fa-87c6-f2a24fd4f8f2",
   "metadata": {
    "tags": []
   },
   "outputs": [],
   "source": [
    "# Load necessary libraries\n",
    "library(readxl)\n",
    "suppressPackageStartupMessages(library(dplyr)) "
   ]
  },
  {
   "cell_type": "code",
   "execution_count": 2,
   "id": "ba5651ed-5d2b-4b71-b4e3-2a5d18ec7568",
   "metadata": {
    "tags": []
   },
   "outputs": [],
   "source": [
    "working_dir <- getwd()"
   ]
  },
  {
   "cell_type": "markdown",
   "id": "f999a918-c45d-407d-a80f-9443ca79414f",
   "metadata": {},
   "source": [
    "## 1- Data loading"
   ]
  },
  {
   "cell_type": "code",
   "execution_count": 3,
   "id": "198c36f8-722f-497b-ad87-5ac30549fb8c",
   "metadata": {
    "tags": []
   },
   "outputs": [],
   "source": [
    "# Input File path\n",
    "file_path <- file.path(working_dir, \"input\", \"Data_Preparation_Exercise_2022.xlsx\")\n"
   ]
  },
  {
   "cell_type": "code",
   "execution_count": 4,
   "id": "f1184a33-2b27-4424-88c3-42ae2412ad32",
   "metadata": {
    "tags": []
   },
   "outputs": [],
   "source": [
    "# Read the Student Roster sheet into a data frame\n",
    "rosterDf <- read_excel(file_path, sheet = \"Student Roster\")\n",
    "\n",
    "# Read the AP Results sheet into a data frame\n",
    "apDf <- read_excel(file_path, sheet = \"AP Results\")\n",
    "\n",
    "# Read the Teacher sheet into a data frame\n",
    "teacherDf <- read_excel(file_path, sheet = \"Teacher\")"
   ]
  },
  {
   "cell_type": "markdown",
   "id": "bd183885-7ff6-4921-968d-9263274c0dcc",
   "metadata": {
    "tags": []
   },
   "source": [
    "## 2- Data Exploration"
   ]
  },
  {
   "cell_type": "code",
   "execution_count": 5,
   "id": "1c6217bf-a3ca-4ac5-9d2a-8de9e640258c",
   "metadata": {
    "tags": []
   },
   "outputs": [
    {
     "data": {
      "text/html": [
       "<table class=\"dataframe\">\n",
       "<caption>A tibble: 6 × 6</caption>\n",
       "<thead>\n",
       "\t<tr><th scope=col>Grade</th><th scope=col>School</th><th scope=col>Student ID</th><th scope=col>Gender</th><th scope=col>Ethnicity</th><th scope=col>Lunch Status</th></tr>\n",
       "\t<tr><th scope=col>&lt;chr&gt;</th><th scope=col>&lt;chr&gt;</th><th scope=col>&lt;dbl&gt;</th><th scope=col>&lt;chr&gt;</th><th scope=col>&lt;chr&gt;</th><th scope=col>&lt;chr&gt;</th></tr>\n",
       "</thead>\n",
       "<tbody>\n",
       "\t<tr><td>12th Grade</td><td>UDC-HS</td><td>142021427</td><td>F</td><td>Black   </td><td>P</td></tr>\n",
       "\t<tr><td>12th Grade</td><td>NDHS  </td><td>200051324</td><td>F</td><td>Black   </td><td>F</td></tr>\n",
       "\t<tr><td>12th Grade</td><td>NDHS  </td><td>200052033</td><td>M</td><td>Black   </td><td>F</td></tr>\n",
       "\t<tr><td>12th Grade</td><td>NDHS  </td><td>200273258</td><td>M</td><td>Black   </td><td>P</td></tr>\n",
       "\t<tr><td>12th Grade</td><td>NDHS  </td><td>200318384</td><td>F</td><td>Black   </td><td>P</td></tr>\n",
       "\t<tr><td>9th Grade </td><td>NDHS  </td><td>200319929</td><td>M</td><td>Hispanic</td><td>P</td></tr>\n",
       "</tbody>\n",
       "</table>\n"
      ],
      "text/latex": [
       "A tibble: 6 × 6\n",
       "\\begin{tabular}{llllll}\n",
       " Grade & School & Student ID & Gender & Ethnicity & Lunch Status\\\\\n",
       " <chr> & <chr> & <dbl> & <chr> & <chr> & <chr>\\\\\n",
       "\\hline\n",
       "\t 12th Grade & UDC-HS & 142021427 & F & Black    & P\\\\\n",
       "\t 12th Grade & NDHS   & 200051324 & F & Black    & F\\\\\n",
       "\t 12th Grade & NDHS   & 200052033 & M & Black    & F\\\\\n",
       "\t 12th Grade & NDHS   & 200273258 & M & Black    & P\\\\\n",
       "\t 12th Grade & NDHS   & 200318384 & F & Black    & P\\\\\n",
       "\t 9th Grade  & NDHS   & 200319929 & M & Hispanic & P\\\\\n",
       "\\end{tabular}\n"
      ],
      "text/markdown": [
       "\n",
       "A tibble: 6 × 6\n",
       "\n",
       "| Grade &lt;chr&gt; | School &lt;chr&gt; | Student ID &lt;dbl&gt; | Gender &lt;chr&gt; | Ethnicity &lt;chr&gt; | Lunch Status &lt;chr&gt; |\n",
       "|---|---|---|---|---|---|\n",
       "| 12th Grade | UDC-HS | 142021427 | F | Black    | P |\n",
       "| 12th Grade | NDHS   | 200051324 | F | Black    | F |\n",
       "| 12th Grade | NDHS   | 200052033 | M | Black    | F |\n",
       "| 12th Grade | NDHS   | 200273258 | M | Black    | P |\n",
       "| 12th Grade | NDHS   | 200318384 | F | Black    | P |\n",
       "| 9th Grade  | NDHS   | 200319929 | M | Hispanic | P |\n",
       "\n"
      ],
      "text/plain": [
       "  Grade      School Student ID Gender Ethnicity Lunch Status\n",
       "1 12th Grade UDC-HS 142021427  F      Black     P           \n",
       "2 12th Grade NDHS   200051324  F      Black     F           \n",
       "3 12th Grade NDHS   200052033  M      Black     F           \n",
       "4 12th Grade NDHS   200273258  M      Black     P           \n",
       "5 12th Grade NDHS   200318384  F      Black     P           \n",
       "6 9th Grade  NDHS   200319929  M      Hispanic  P           "
      ]
     },
     "metadata": {},
     "output_type": "display_data"
    }
   ],
   "source": [
    "# Display the first 6 rows of the rosterDf dataframe to quickly inspect its structure and contents\n",
    "head(rosterDf)"
   ]
  },
  {
   "cell_type": "code",
   "execution_count": 6,
   "id": "f9737f2e-c550-41e2-aa8b-64a3adbb76d8",
   "metadata": {
    "tags": []
   },
   "outputs": [
    {
     "data": {
      "text/html": [
       "<table class=\"dataframe\">\n",
       "<caption>A tibble: 6 × 3</caption>\n",
       "<thead>\n",
       "\t<tr><th scope=col>Student Number</th><th scope=col>Score</th><th scope=col>Subject</th></tr>\n",
       "\t<tr><th scope=col>&lt;dbl&gt;</th><th scope=col>&lt;dbl&gt;</th><th scope=col>&lt;chr&gt;</th></tr>\n",
       "</thead>\n",
       "<tbody>\n",
       "\t<tr><td>303000105</td><td>4</td><td>Biology</td></tr>\n",
       "\t<tr><td>301001086</td><td>4</td><td>Biology</td></tr>\n",
       "\t<tr><td>306001140</td><td>2</td><td>Biology</td></tr>\n",
       "\t<tr><td>303000119</td><td>2</td><td>Biology</td></tr>\n",
       "\t<tr><td>303000023</td><td>4</td><td>Biology</td></tr>\n",
       "\t<tr><td>301001329</td><td>3</td><td>Biology</td></tr>\n",
       "</tbody>\n",
       "</table>\n"
      ],
      "text/latex": [
       "A tibble: 6 × 3\n",
       "\\begin{tabular}{lll}\n",
       " Student Number & Score & Subject\\\\\n",
       " <dbl> & <dbl> & <chr>\\\\\n",
       "\\hline\n",
       "\t 303000105 & 4 & Biology\\\\\n",
       "\t 301001086 & 4 & Biology\\\\\n",
       "\t 306001140 & 2 & Biology\\\\\n",
       "\t 303000119 & 2 & Biology\\\\\n",
       "\t 303000023 & 4 & Biology\\\\\n",
       "\t 301001329 & 3 & Biology\\\\\n",
       "\\end{tabular}\n"
      ],
      "text/markdown": [
       "\n",
       "A tibble: 6 × 3\n",
       "\n",
       "| Student Number &lt;dbl&gt; | Score &lt;dbl&gt; | Subject &lt;chr&gt; |\n",
       "|---|---|---|\n",
       "| 303000105 | 4 | Biology |\n",
       "| 301001086 | 4 | Biology |\n",
       "| 306001140 | 2 | Biology |\n",
       "| 303000119 | 2 | Biology |\n",
       "| 303000023 | 4 | Biology |\n",
       "| 301001329 | 3 | Biology |\n",
       "\n"
      ],
      "text/plain": [
       "  Student Number Score Subject\n",
       "1 303000105      4     Biology\n",
       "2 301001086      4     Biology\n",
       "3 306001140      2     Biology\n",
       "4 303000119      2     Biology\n",
       "5 303000023      4     Biology\n",
       "6 301001329      3     Biology"
      ]
     },
     "metadata": {},
     "output_type": "display_data"
    }
   ],
   "source": [
    "# Display the first 6 rows of the apDf dataframe to quickly inspect its structure and contents\n",
    "head(apDf)"
   ]
  },
  {
   "cell_type": "code",
   "execution_count": 7,
   "id": "d6d8e52a-4547-44c3-b335-d9958f6631f1",
   "metadata": {
    "tags": []
   },
   "outputs": [
    {
     "data": {
      "text/html": [
       "<table class=\"dataframe\">\n",
       "<caption>A tibble: 6 × 3</caption>\n",
       "<thead>\n",
       "\t<tr><th scope=col>School</th><th scope=col>Subject</th><th scope=col>Teacher</th></tr>\n",
       "\t<tr><th scope=col>&lt;chr&gt;</th><th scope=col>&lt;chr&gt;</th><th scope=col>&lt;chr&gt;</th></tr>\n",
       "</thead>\n",
       "<tbody>\n",
       "\t<tr><td>Biology</td><td>UDC-HS</td><td>Smith    </td></tr>\n",
       "\t<tr><td>Biology</td><td>REH   </td><td>Morgan   </td></tr>\n",
       "\t<tr><td>Biology</td><td>NDHS  </td><td>Slaughter</td></tr>\n",
       "\t<tr><td>Calc AB</td><td>UDC-HS</td><td>Ramirez  </td></tr>\n",
       "\t<tr><td>Calc AB</td><td>NDHS  </td><td>Stenson  </td></tr>\n",
       "\t<tr><td>Calc BC</td><td>UDC-HS</td><td>Rametti  </td></tr>\n",
       "</tbody>\n",
       "</table>\n"
      ],
      "text/latex": [
       "A tibble: 6 × 3\n",
       "\\begin{tabular}{lll}\n",
       " School & Subject & Teacher\\\\\n",
       " <chr> & <chr> & <chr>\\\\\n",
       "\\hline\n",
       "\t Biology & UDC-HS & Smith    \\\\\n",
       "\t Biology & REH    & Morgan   \\\\\n",
       "\t Biology & NDHS   & Slaughter\\\\\n",
       "\t Calc AB & UDC-HS & Ramirez  \\\\\n",
       "\t Calc AB & NDHS   & Stenson  \\\\\n",
       "\t Calc BC & UDC-HS & Rametti  \\\\\n",
       "\\end{tabular}\n"
      ],
      "text/markdown": [
       "\n",
       "A tibble: 6 × 3\n",
       "\n",
       "| School &lt;chr&gt; | Subject &lt;chr&gt; | Teacher &lt;chr&gt; |\n",
       "|---|---|---|\n",
       "| Biology | UDC-HS | Smith     |\n",
       "| Biology | REH    | Morgan    |\n",
       "| Biology | NDHS   | Slaughter |\n",
       "| Calc AB | UDC-HS | Ramirez   |\n",
       "| Calc AB | NDHS   | Stenson   |\n",
       "| Calc BC | UDC-HS | Rametti   |\n",
       "\n"
      ],
      "text/plain": [
       "  School  Subject Teacher  \n",
       "1 Biology UDC-HS  Smith    \n",
       "2 Biology REH     Morgan   \n",
       "3 Biology NDHS    Slaughter\n",
       "4 Calc AB UDC-HS  Ramirez  \n",
       "5 Calc AB NDHS    Stenson  \n",
       "6 Calc BC UDC-HS  Rametti  "
      ]
     },
     "metadata": {},
     "output_type": "display_data"
    }
   ],
   "source": [
    "# Display the first 6 rows of the teacherDf dataframe to quickly inspect its structure and contents\n",
    "head(teacherDf)"
   ]
  },
  {
   "cell_type": "markdown",
   "id": "c066383c-9b82-4f27-8c07-7a3de9734341",
   "metadata": {
    "tags": []
   },
   "source": [
    "#### Check for Data Quality\n",
    "\n",
    "- **Duplicate check:** Verify that there are no duplicate rows in the datasets.\n",
    "- **Unique roster rows:** Assume the `roster` dataframe has exactly one row per `Student ID`.\n",
    "- **Matching student IDs:** Assume every `Student Number` in the AP table has a corresponding entry in the roster table.\n",
    "- **Column consistency for joins:** Ensure that column names match across dataframes to simplify merging.\n",
    "- **Missing values:** Ensure there are no missing values in datasets."
   ]
  },
  {
   "cell_type": "code",
   "execution_count": 8,
   "id": "442321e2-8038-425f-88ff-0ff6250b24bf",
   "metadata": {
    "tags": []
   },
   "outputs": [
    {
     "data": {
      "text/html": [
       "0"
      ],
      "text/latex": [
       "0"
      ],
      "text/markdown": [
       "0"
      ],
      "text/plain": [
       "[1] 0"
      ]
     },
     "metadata": {},
     "output_type": "display_data"
    }
   ],
   "source": [
    "# Check for duplicates in rosterDf dataframe\n",
    "sum(duplicated(rosterDf))"
   ]
  },
  {
   "cell_type": "code",
   "execution_count": 9,
   "id": "ae515bca-e400-48eb-9fa0-ba2d90a76c7a",
   "metadata": {
    "tags": []
   },
   "outputs": [
    {
     "data": {
      "text/html": [
       "79"
      ],
      "text/latex": [
       "79"
      ],
      "text/markdown": [
       "79"
      ],
      "text/plain": [
       "[1] 79"
      ]
     },
     "metadata": {},
     "output_type": "display_data"
    }
   ],
   "source": [
    "# Check for duplicates in apDf dataframe\n",
    "sum(duplicated(apDf))"
   ]
  },
  {
   "cell_type": "code",
   "execution_count": 10,
   "id": "ea0da2bc-40a0-4b67-b7ca-a0eb6e70502b",
   "metadata": {
    "tags": []
   },
   "outputs": [
    {
     "data": {
      "text/html": [
       "0"
      ],
      "text/latex": [
       "0"
      ],
      "text/markdown": [
       "0"
      ],
      "text/plain": [
       "[1] 0"
      ]
     },
     "metadata": {},
     "output_type": "display_data"
    }
   ],
   "source": [
    "# Check for duplicates in teacherDf dataframe\n",
    "sum(duplicated(teacherDf))"
   ]
  },
  {
   "cell_type": "code",
   "execution_count": 11,
   "id": "3f5a7f71-8faa-47bf-bf68-a72b77ec8c13",
   "metadata": {
    "tags": []
   },
   "outputs": [
    {
     "data": {
      "text/html": [
       "TRUE"
      ],
      "text/latex": [
       "TRUE"
      ],
      "text/markdown": [
       "TRUE"
      ],
      "text/plain": [
       "[1] TRUE"
      ]
     },
     "metadata": {},
     "output_type": "display_data"
    }
   ],
   "source": [
    "# Check referential integrity\n",
    "matches <- apDf$`Student Number` %in% rosterDf$`Student ID`\n",
    "\n",
    "# 2. 'all(matches)' returns TRUE if every AP student number has a matching roster entry, FALSE if any are missing\n",
    "all(matches)"
   ]
  },
  {
   "cell_type": "code",
   "execution_count": 12,
   "id": "f11e0571-b8d7-4d3b-b443-6d88991d5a3b",
   "metadata": {
    "tags": []
   },
   "outputs": [
    {
     "data": {
      "text/html": [
       "'Student ID is unique'"
      ],
      "text/latex": [
       "'Student ID is unique'"
      ],
      "text/markdown": [
       "'Student ID is unique'"
      ],
      "text/plain": [
       "[1] \"Student ID is unique\""
      ]
     },
     "metadata": {},
     "output_type": "display_data"
    }
   ],
   "source": [
    "# Check for duplicate Student IDs in rosterDf\n",
    "ifelse(length(unique(rosterDf$`Student ID`)) == nrow(rosterDf),\"Student ID is unique\",\"Student ID has duplicates\")"
   ]
  },
  {
   "cell_type": "code",
   "execution_count": 13,
   "id": "43138def-de72-4ea0-89a7-6e47f844d966",
   "metadata": {
    "tags": []
   },
   "outputs": [
    {
     "data": {
      "text/html": [
       "<style>\n",
       ".dl-inline {width: auto; margin:0; padding: 0}\n",
       ".dl-inline>dt, .dl-inline>dd {float: none; width: auto; display: inline-block}\n",
       ".dl-inline>dt::after {content: \":\\0020\"; padding-right: .5ex}\n",
       ".dl-inline>dt:not(:first-of-type) {padding-left: .5ex}\n",
       "</style><dl class=dl-inline><dt>Grade</dt><dd>0</dd><dt>School</dt><dd>0</dd><dt>Student ID</dt><dd>0</dd><dt>Gender</dt><dd>0</dd><dt>Ethnicity</dt><dd>0</dd><dt>Lunch Status</dt><dd>0</dd></dl>\n"
      ],
      "text/latex": [
       "\\begin{description*}\n",
       "\\item[Grade] 0\n",
       "\\item[School] 0\n",
       "\\item[Student ID] 0\n",
       "\\item[Gender] 0\n",
       "\\item[Ethnicity] 0\n",
       "\\item[Lunch Status] 0\n",
       "\\end{description*}\n"
      ],
      "text/markdown": [
       "Grade\n",
       ":   0School\n",
       ":   0Student ID\n",
       ":   0Gender\n",
       ":   0Ethnicity\n",
       ":   0Lunch Status\n",
       ":   0\n",
       "\n"
      ],
      "text/plain": [
       "       Grade       School   Student ID       Gender    Ethnicity Lunch Status \n",
       "           0            0            0            0            0            0 "
      ]
     },
     "metadata": {},
     "output_type": "display_data"
    }
   ],
   "source": [
    "# Check for missing values in rosterDf\n",
    "colSums(is.na(rosterDf))"
   ]
  },
  {
   "cell_type": "code",
   "execution_count": 14,
   "id": "3ac3fb99-cdfd-4737-a00a-d56d7cf0ef4b",
   "metadata": {
    "tags": []
   },
   "outputs": [
    {
     "data": {
      "text/html": [
       "<style>\n",
       ".dl-inline {width: auto; margin:0; padding: 0}\n",
       ".dl-inline>dt, .dl-inline>dd {float: none; width: auto; display: inline-block}\n",
       ".dl-inline>dt::after {content: \":\\0020\"; padding-right: .5ex}\n",
       ".dl-inline>dt:not(:first-of-type) {padding-left: .5ex}\n",
       "</style><dl class=dl-inline><dt>Student Number</dt><dd>0</dd><dt>Score</dt><dd>0</dd><dt>Subject</dt><dd>0</dd></dl>\n"
      ],
      "text/latex": [
       "\\begin{description*}\n",
       "\\item[Student Number] 0\n",
       "\\item[Score] 0\n",
       "\\item[Subject] 0\n",
       "\\end{description*}\n"
      ],
      "text/markdown": [
       "Student Number\n",
       ":   0Score\n",
       ":   0Subject\n",
       ":   0\n",
       "\n"
      ],
      "text/plain": [
       "Student Number          Score        Subject \n",
       "             0              0              0 "
      ]
     },
     "metadata": {},
     "output_type": "display_data"
    }
   ],
   "source": [
    "# Check for missing values in apDf\n",
    "colSums(is.na(apDf))"
   ]
  },
  {
   "cell_type": "code",
   "execution_count": 15,
   "id": "8b48e4bd-b490-431e-b2b4-82c552f9f3a2",
   "metadata": {
    "tags": []
   },
   "outputs": [
    {
     "data": {
      "text/html": [
       "<style>\n",
       ".dl-inline {width: auto; margin:0; padding: 0}\n",
       ".dl-inline>dt, .dl-inline>dd {float: none; width: auto; display: inline-block}\n",
       ".dl-inline>dt::after {content: \":\\0020\"; padding-right: .5ex}\n",
       ".dl-inline>dt:not(:first-of-type) {padding-left: .5ex}\n",
       "</style><dl class=dl-inline><dt>School</dt><dd>0</dd><dt>Subject</dt><dd>0</dd><dt>Teacher</dt><dd>0</dd></dl>\n"
      ],
      "text/latex": [
       "\\begin{description*}\n",
       "\\item[School] 0\n",
       "\\item[Subject] 0\n",
       "\\item[Teacher] 0\n",
       "\\end{description*}\n"
      ],
      "text/markdown": [
       "School\n",
       ":   0Subject\n",
       ":   0Teacher\n",
       ":   0\n",
       "\n"
      ],
      "text/plain": [
       " School Subject Teacher \n",
       "      0       0       0 "
      ]
     },
     "metadata": {},
     "output_type": "display_data"
    }
   ],
   "source": [
    "# Check for missing values in teacherDf\n",
    "colSums(is.na(teacherDf))"
   ]
  },
  {
   "cell_type": "markdown",
   "id": "d49c9dca-f094-433c-91b7-bbf84383c4dd",
   "metadata": {},
   "source": [
    "#### Data Quality Issues to Address\n",
    "\n",
    "- **Column consistency for joins:** Rename `Student ID` in rosterDf for `Student Number`.\n",
    "- **Column naming:** Use the column names specified in the requirements for the output file whenever they exist.\n",
    "- **Teacher dataset mislabeling:** The `School` column contains `Subject` data, and the `Subject` column contains `School` data. This needs to be corrected.\n",
    "- **Duplicates:** Remove duplicates from apDf dataframe"
   ]
  },
  {
   "cell_type": "markdown",
   "id": "80928fe7-1a53-4bc5-b8e9-c62537b5bc94",
   "metadata": {},
   "source": [
    "## 3- Data cleaning"
   ]
  },
  {
   "cell_type": "markdown",
   "id": "96239f61-e5ca-4ab3-ba4c-760256a4de15",
   "metadata": {},
   "source": [
    "#### Remove duplicates in apDf dataset."
   ]
  },
  {
   "cell_type": "code",
   "execution_count": 16,
   "id": "95dc0dac-f96c-46a4-80dc-05721b717602",
   "metadata": {
    "tags": []
   },
   "outputs": [
    {
     "name": "stdout",
     "output_type": "stream",
     "text": [
      "[1] \"Total number of rows before removing duplicates 720\"\n",
      "[1] \"Total number of rows is after removing duplicates 641\"\n"
     ]
    }
   ],
   "source": [
    "# Print total number of rows \n",
    "print(paste(\"Total number of rows before removing duplicates\", nrow(apDf)))\n",
    "\n",
    "# Check for duplicate Student Number in AP Results Table \n",
    "dup <- apDf %>%\n",
    "  arrange(`Student Number`)  %>%   # Sort by Student Number\n",
    "  filter(duplicated(.))                 # Keep only rows where all columns match a previous row\n",
    "\n",
    "# Write duplicates to a CSV file\n",
    "dup_output_file_path <- file.path(working_dir, \"output\", \"duplicates.csv\")\n",
    "write.csv(dup, dup_output_file_path, row.names = FALSE)\n",
    "\n",
    "# Remove duplicates from the original data frame\n",
    "apDf <- apDf[!duplicated(apDf), ]\n",
    "\n",
    "# Print total number of rows \n",
    "print(paste(\"Total number of rows is after removing duplicates\", nrow(apDf)))\n"
   ]
  },
  {
   "cell_type": "markdown",
   "id": "f1b2c36c-defd-41bb-bebc-358a926382c7",
   "metadata": {},
   "source": [
    "#### Rename columns consistent with requirements."
   ]
  },
  {
   "cell_type": "code",
   "execution_count": 27,
   "id": "795f863a-71e3-4244-af5a-3cdedd2a6fe7",
   "metadata": {
    "tags": []
   },
   "outputs": [],
   "source": [
    "# Rename columns in rosterDf dataset.\n",
    "names(rosterDf) <- c(\n",
    "    \"Grade\",\n",
    "    \"High School\",\n",
    "    \"Student Number\",\n",
    "    \"Gender\",\n",
    "    \"Ethnicity\",\n",
    "    \"FRPL status\")\n",
    "\n",
    "# Rename columns in teacherDf dataset.\n",
    "names(teacherDf) <- c(\"Subject\", \"High School\", \"Teacher Name\") # Fix incorrect column names in original file"
   ]
  },
  {
   "cell_type": "markdown",
   "id": "59370771-8aa2-4d89-8618-9501dd8f0d86",
   "metadata": {},
   "source": [
    "## 4- Final Data Set"
   ]
  },
  {
   "cell_type": "code",
   "execution_count": 18,
   "id": "ba4bce28-588c-46c3-85b3-2305392d5b44",
   "metadata": {
    "tags": []
   },
   "outputs": [],
   "source": [
    "\n",
    "# Map grades to graduating years\n",
    "curr_grad_year <- 2022 # Define current graduation year\n",
    "\n",
    "grade_to_year <- c(\n",
    "  \"12th Grade\" = curr_grad_year,\n",
    "  \"11th Grade\" = curr_grad_year + 1,\n",
    "  \"10th Grade\" = curr_grad_year + 2,\n",
    "  \"9th Grade\"  = curr_grad_year + 3\n",
    ")\n",
    "\n",
    "# Prepare final data frame\n",
    "finalDf <- apDf %>% \n",
    "  left_join(rosterDf, by = \"Student Number\") %>% # Join with roster data to Student Information such as school, grade, demographics\n",
    "  left_join(teacherDf, by = c(\"High School\", \"Subject\")) %>% # Join with teacher data to get teacher name\n",
    "  mutate(\n",
    "    `Graduating cohort year` = grade_to_year[Grade],   # Map grades to convert grades to graduating year\n",
    "    `AP Status` = ifelse(Score >= 3, \"Pass\", \"Fail\")  # Determine exam pass/fail based of score\n",
    "  ) %>%\n",
    "  select(\n",
    "    `Student Number`,\n",
    "    `Score`,\n",
    "    `Subject`,\n",
    "    `High School`,\n",
    "    `Graduating cohort year`,\n",
    "    `AP Status`,\n",
    "    `FRPL status`,\n",
    "    `Ethnicity`,\n",
    "    `Gender`,\n",
    "    `Teacher Name`)"
   ]
  },
  {
   "cell_type": "markdown",
   "id": "bea4c371-0235-4efe-a1fc-a41ab7986cfc",
   "metadata": {},
   "source": [
    "#### Data Valitation for final dataset."
   ]
  },
  {
   "cell_type": "markdown",
   "id": "f8a3380d-5fb6-4e1d-b835-bf3ccbe91417",
   "metadata": {
    "tags": []
   },
   "source": [
    "##### - Missing data"
   ]
  },
  {
   "cell_type": "code",
   "execution_count": 19,
   "id": "26afaf6c-ecc5-4c40-9411-29f936379985",
   "metadata": {
    "tags": []
   },
   "outputs": [
    {
     "data": {
      "text/html": [
       "<style>\n",
       ".dl-inline {width: auto; margin:0; padding: 0}\n",
       ".dl-inline>dt, .dl-inline>dd {float: none; width: auto; display: inline-block}\n",
       ".dl-inline>dt::after {content: \":\\0020\"; padding-right: .5ex}\n",
       ".dl-inline>dt:not(:first-of-type) {padding-left: .5ex}\n",
       "</style><dl class=dl-inline><dt>Student Number</dt><dd>0</dd><dt>Score</dt><dd>0</dd><dt>Subject</dt><dd>0</dd><dt>High School</dt><dd>0</dd><dt>Graduating cohort year</dt><dd>0</dd><dt>AP Status</dt><dd>0</dd><dt>FRPL status</dt><dd>0</dd><dt>Ethnicity</dt><dd>0</dd><dt>Gender</dt><dd>0</dd><dt>Teacher Name</dt><dd>13</dd></dl>\n"
      ],
      "text/latex": [
       "\\begin{description*}\n",
       "\\item[Student Number] 0\n",
       "\\item[Score] 0\n",
       "\\item[Subject] 0\n",
       "\\item[High School] 0\n",
       "\\item[Graduating cohort year] 0\n",
       "\\item[AP Status] 0\n",
       "\\item[FRPL status] 0\n",
       "\\item[Ethnicity] 0\n",
       "\\item[Gender] 0\n",
       "\\item[Teacher Name] 13\n",
       "\\end{description*}\n"
      ],
      "text/markdown": [
       "Student Number\n",
       ":   0Score\n",
       ":   0Subject\n",
       ":   0High School\n",
       ":   0Graduating cohort year\n",
       ":   0AP Status\n",
       ":   0FRPL status\n",
       ":   0Ethnicity\n",
       ":   0Gender\n",
       ":   0Teacher Name\n",
       ":   13\n",
       "\n"
      ],
      "text/plain": [
       "        Student Number                  Score                Subject \n",
       "                     0                      0                      0 \n",
       "           High School Graduating cohort year              AP Status \n",
       "                     0                      0                      0 \n",
       "           FRPL status              Ethnicity                 Gender \n",
       "                     0                      0                      0 \n",
       "          Teacher Name \n",
       "                    13 "
      ]
     },
     "metadata": {},
     "output_type": "display_data"
    }
   ],
   "source": [
    "# Check for missing values in finalDf\n",
    "colSums(is.na(finalDf))"
   ]
  },
  {
   "cell_type": "code",
   "execution_count": null,
   "id": "11f36333-0757-43ce-8909-1a6a93d70bd2",
   "metadata": {},
   "outputs": [],
   "source": []
  },
  {
   "cell_type": "code",
   "execution_count": 20,
   "id": "7fd74059-92e8-4e8f-b30e-13679692f8c1",
   "metadata": {
    "tags": []
   },
   "outputs": [
    {
     "data": {
      "text/html": [
       "<table class=\"dataframe\">\n",
       "<caption>A tibble: 13 × 10</caption>\n",
       "<thead>\n",
       "\t<tr><th scope=col>Student Number</th><th scope=col>Score</th><th scope=col>Subject</th><th scope=col>High School</th><th scope=col>Graduating cohort year</th><th scope=col>AP Status</th><th scope=col>FRPL status</th><th scope=col>Ethnicity</th><th scope=col>Gender</th><th scope=col>Teacher Name</th></tr>\n",
       "\t<tr><th scope=col>&lt;dbl&gt;</th><th scope=col>&lt;dbl&gt;</th><th scope=col>&lt;chr&gt;</th><th scope=col>&lt;chr&gt;</th><th scope=col>&lt;dbl&gt;</th><th scope=col>&lt;chr&gt;</th><th scope=col>&lt;chr&gt;</th><th scope=col>&lt;chr&gt;</th><th scope=col>&lt;chr&gt;</th><th scope=col>&lt;chr&gt;</th></tr>\n",
       "</thead>\n",
       "<tbody>\n",
       "\t<tr><td>204010599</td><td>2</td><td>English Lang and Composition</td><td>NDHS</td><td>2022</td><td>Fail</td><td>P  </td><td>Hispanic</td><td>F</td><td>NA</td></tr>\n",
       "\t<tr><td>270485832</td><td>3</td><td>English Lang and Composition</td><td>NDHS</td><td>2022</td><td>Pass</td><td>P  </td><td>Black   </td><td>F</td><td>NA</td></tr>\n",
       "\t<tr><td>270081946</td><td>2</td><td>English Lang and Composition</td><td>NDHS</td><td>2022</td><td>Fail</td><td>FDC</td><td>Hispanic</td><td>M</td><td>NA</td></tr>\n",
       "\t<tr><td>275078996</td><td>4</td><td>English Lang and Composition</td><td>NDHS</td><td>2022</td><td>Pass</td><td>F  </td><td>Black   </td><td>M</td><td>NA</td></tr>\n",
       "\t<tr><td>275078293</td><td>2</td><td>English Lang and Composition</td><td>NDHS</td><td>2022</td><td>Fail</td><td>F  </td><td>Black   </td><td>F</td><td>NA</td></tr>\n",
       "\t<tr><td>270039415</td><td>2</td><td>English Lang and Composition</td><td>NDHS</td><td>2022</td><td>Fail</td><td>FDC</td><td>Black   </td><td>F</td><td>NA</td></tr>\n",
       "\t<tr><td>215509670</td><td>2</td><td>English Lang and Composition</td><td>NDHS</td><td>2022</td><td>Fail</td><td>FDC</td><td>Black   </td><td>F</td><td>NA</td></tr>\n",
       "\t<tr><td>203089842</td><td>4</td><td>English Lang and Composition</td><td>NDHS</td><td>2022</td><td>Pass</td><td>F  </td><td>Black   </td><td>F</td><td>NA</td></tr>\n",
       "\t<tr><td>274080092</td><td>2</td><td>English Lang and Composition</td><td>NDHS</td><td>2022</td><td>Fail</td><td>FDC</td><td>Black   </td><td>F</td><td>NA</td></tr>\n",
       "\t<tr><td>201823614</td><td>2</td><td>English Lang and Composition</td><td>NDHS</td><td>2022</td><td>Fail</td><td>F  </td><td>Black   </td><td>F</td><td>NA</td></tr>\n",
       "\t<tr><td>200051324</td><td>4</td><td>English Lang and Composition</td><td>NDHS</td><td>2022</td><td>Pass</td><td>F  </td><td>Black   </td><td>F</td><td>NA</td></tr>\n",
       "\t<tr><td>206026312</td><td>2</td><td>English Lang and Composition</td><td>NDHS</td><td>2022</td><td>Fail</td><td>F  </td><td>Black   </td><td>F</td><td>NA</td></tr>\n",
       "\t<tr><td>203371976</td><td>4</td><td>English Lang and Composition</td><td>NDHS</td><td>2022</td><td>Pass</td><td>FDC</td><td>Black   </td><td>F</td><td>NA</td></tr>\n",
       "</tbody>\n",
       "</table>\n"
      ],
      "text/latex": [
       "A tibble: 13 × 10\n",
       "\\begin{tabular}{llllllllll}\n",
       " Student Number & Score & Subject & High School & Graduating cohort year & AP Status & FRPL status & Ethnicity & Gender & Teacher Name\\\\\n",
       " <dbl> & <dbl> & <chr> & <chr> & <dbl> & <chr> & <chr> & <chr> & <chr> & <chr>\\\\\n",
       "\\hline\n",
       "\t 204010599 & 2 & English Lang and Composition & NDHS & 2022 & Fail & P   & Hispanic & F & NA\\\\\n",
       "\t 270485832 & 3 & English Lang and Composition & NDHS & 2022 & Pass & P   & Black    & F & NA\\\\\n",
       "\t 270081946 & 2 & English Lang and Composition & NDHS & 2022 & Fail & FDC & Hispanic & M & NA\\\\\n",
       "\t 275078996 & 4 & English Lang and Composition & NDHS & 2022 & Pass & F   & Black    & M & NA\\\\\n",
       "\t 275078293 & 2 & English Lang and Composition & NDHS & 2022 & Fail & F   & Black    & F & NA\\\\\n",
       "\t 270039415 & 2 & English Lang and Composition & NDHS & 2022 & Fail & FDC & Black    & F & NA\\\\\n",
       "\t 215509670 & 2 & English Lang and Composition & NDHS & 2022 & Fail & FDC & Black    & F & NA\\\\\n",
       "\t 203089842 & 4 & English Lang and Composition & NDHS & 2022 & Pass & F   & Black    & F & NA\\\\\n",
       "\t 274080092 & 2 & English Lang and Composition & NDHS & 2022 & Fail & FDC & Black    & F & NA\\\\\n",
       "\t 201823614 & 2 & English Lang and Composition & NDHS & 2022 & Fail & F   & Black    & F & NA\\\\\n",
       "\t 200051324 & 4 & English Lang and Composition & NDHS & 2022 & Pass & F   & Black    & F & NA\\\\\n",
       "\t 206026312 & 2 & English Lang and Composition & NDHS & 2022 & Fail & F   & Black    & F & NA\\\\\n",
       "\t 203371976 & 4 & English Lang and Composition & NDHS & 2022 & Pass & FDC & Black    & F & NA\\\\\n",
       "\\end{tabular}\n"
      ],
      "text/markdown": [
       "\n",
       "A tibble: 13 × 10\n",
       "\n",
       "| Student Number &lt;dbl&gt; | Score &lt;dbl&gt; | Subject &lt;chr&gt; | High School &lt;chr&gt; | Graduating cohort year &lt;dbl&gt; | AP Status &lt;chr&gt; | FRPL status &lt;chr&gt; | Ethnicity &lt;chr&gt; | Gender &lt;chr&gt; | Teacher Name &lt;chr&gt; |\n",
       "|---|---|---|---|---|---|---|---|---|---|\n",
       "| 204010599 | 2 | English Lang and Composition | NDHS | 2022 | Fail | P   | Hispanic | F | NA |\n",
       "| 270485832 | 3 | English Lang and Composition | NDHS | 2022 | Pass | P   | Black    | F | NA |\n",
       "| 270081946 | 2 | English Lang and Composition | NDHS | 2022 | Fail | FDC | Hispanic | M | NA |\n",
       "| 275078996 | 4 | English Lang and Composition | NDHS | 2022 | Pass | F   | Black    | M | NA |\n",
       "| 275078293 | 2 | English Lang and Composition | NDHS | 2022 | Fail | F   | Black    | F | NA |\n",
       "| 270039415 | 2 | English Lang and Composition | NDHS | 2022 | Fail | FDC | Black    | F | NA |\n",
       "| 215509670 | 2 | English Lang and Composition | NDHS | 2022 | Fail | FDC | Black    | F | NA |\n",
       "| 203089842 | 4 | English Lang and Composition | NDHS | 2022 | Pass | F   | Black    | F | NA |\n",
       "| 274080092 | 2 | English Lang and Composition | NDHS | 2022 | Fail | FDC | Black    | F | NA |\n",
       "| 201823614 | 2 | English Lang and Composition | NDHS | 2022 | Fail | F   | Black    | F | NA |\n",
       "| 200051324 | 4 | English Lang and Composition | NDHS | 2022 | Pass | F   | Black    | F | NA |\n",
       "| 206026312 | 2 | English Lang and Composition | NDHS | 2022 | Fail | F   | Black    | F | NA |\n",
       "| 203371976 | 4 | English Lang and Composition | NDHS | 2022 | Pass | FDC | Black    | F | NA |\n",
       "\n"
      ],
      "text/plain": [
       "   Student Number Score Subject                      High School\n",
       "1  204010599      2     English Lang and Composition NDHS       \n",
       "2  270485832      3     English Lang and Composition NDHS       \n",
       "3  270081946      2     English Lang and Composition NDHS       \n",
       "4  275078996      4     English Lang and Composition NDHS       \n",
       "5  275078293      2     English Lang and Composition NDHS       \n",
       "6  270039415      2     English Lang and Composition NDHS       \n",
       "7  215509670      2     English Lang and Composition NDHS       \n",
       "8  203089842      4     English Lang and Composition NDHS       \n",
       "9  274080092      2     English Lang and Composition NDHS       \n",
       "10 201823614      2     English Lang and Composition NDHS       \n",
       "11 200051324      4     English Lang and Composition NDHS       \n",
       "12 206026312      2     English Lang and Composition NDHS       \n",
       "13 203371976      4     English Lang and Composition NDHS       \n",
       "   Graduating cohort year AP Status FRPL status Ethnicity Gender Teacher Name\n",
       "1  2022                   Fail      P           Hispanic  F      NA          \n",
       "2  2022                   Pass      P           Black     F      NA          \n",
       "3  2022                   Fail      FDC         Hispanic  M      NA          \n",
       "4  2022                   Pass      F           Black     M      NA          \n",
       "5  2022                   Fail      F           Black     F      NA          \n",
       "6  2022                   Fail      FDC         Black     F      NA          \n",
       "7  2022                   Fail      FDC         Black     F      NA          \n",
       "8  2022                   Pass      F           Black     F      NA          \n",
       "9  2022                   Fail      FDC         Black     F      NA          \n",
       "10 2022                   Fail      F           Black     F      NA          \n",
       "11 2022                   Pass      F           Black     F      NA          \n",
       "12 2022                   Fail      F           Black     F      NA          \n",
       "13 2022                   Pass      FDC         Black     F      NA          "
      ]
     },
     "metadata": {},
     "output_type": "display_data"
    }
   ],
   "source": [
    "# Show rows with missing Teacher Name\n",
    "finalDf[is.na(finalDf$`Teacher Name`),]\n"
   ]
  },
  {
   "cell_type": "code",
   "execution_count": 21,
   "id": "c3da295e-b1b0-422f-af80-0604ebdd2cca",
   "metadata": {},
   "outputs": [],
   "source": [
    "# Check teacherDf dataset to ensure that information about what teacher taught English Lang and Composition at school NDHS is missing"
   ]
  },
  {
   "cell_type": "code",
   "execution_count": 22,
   "id": "f044fd29-43ec-4edd-9497-355c6962cada",
   "metadata": {
    "tags": []
   },
   "outputs": [
    {
     "data": {
      "text/html": [
       "<table class=\"dataframe\">\n",
       "<caption>A tibble: 6 × 3</caption>\n",
       "<thead>\n",
       "\t<tr><th scope=col>Subject</th><th scope=col>High School</th><th scope=col>Teacher Name</th></tr>\n",
       "\t<tr><th scope=col>&lt;chr&gt;</th><th scope=col>&lt;chr&gt;</th><th scope=col>&lt;chr&gt;</th></tr>\n",
       "</thead>\n",
       "<tbody>\n",
       "\t<tr><td>Biology              </td><td>NDHS</td><td>Slaughter</td></tr>\n",
       "\t<tr><td>Calc AB              </td><td>NDHS</td><td>Stenson  </td></tr>\n",
       "\t<tr><td>Environmental Science</td><td>NDHS</td><td>Reese    </td></tr>\n",
       "\t<tr><td>US Gov and Politics  </td><td>NDHS</td><td>Amos     </td></tr>\n",
       "\t<tr><td>US History           </td><td>NDHS</td><td>Lee      </td></tr>\n",
       "\t<tr><td>World History        </td><td>NDHS</td><td>Monteiro </td></tr>\n",
       "</tbody>\n",
       "</table>\n"
      ],
      "text/latex": [
       "A tibble: 6 × 3\n",
       "\\begin{tabular}{lll}\n",
       " Subject & High School & Teacher Name\\\\\n",
       " <chr> & <chr> & <chr>\\\\\n",
       "\\hline\n",
       "\t Biology               & NDHS & Slaughter\\\\\n",
       "\t Calc AB               & NDHS & Stenson  \\\\\n",
       "\t Environmental Science & NDHS & Reese    \\\\\n",
       "\t US Gov and Politics   & NDHS & Amos     \\\\\n",
       "\t US History            & NDHS & Lee      \\\\\n",
       "\t World History         & NDHS & Monteiro \\\\\n",
       "\\end{tabular}\n"
      ],
      "text/markdown": [
       "\n",
       "A tibble: 6 × 3\n",
       "\n",
       "| Subject &lt;chr&gt; | High School &lt;chr&gt; | Teacher Name &lt;chr&gt; |\n",
       "|---|---|---|\n",
       "| Biology               | NDHS | Slaughter |\n",
       "| Calc AB               | NDHS | Stenson   |\n",
       "| Environmental Science | NDHS | Reese     |\n",
       "| US Gov and Politics   | NDHS | Amos      |\n",
       "| US History            | NDHS | Lee       |\n",
       "| World History         | NDHS | Monteiro  |\n",
       "\n"
      ],
      "text/plain": [
       "  Subject               High School Teacher Name\n",
       "1 Biology               NDHS        Slaughter   \n",
       "2 Calc AB               NDHS        Stenson     \n",
       "3 Environmental Science NDHS        Reese       \n",
       "4 US Gov and Politics   NDHS        Amos        \n",
       "5 US History            NDHS        Lee         \n",
       "6 World History         NDHS        Monteiro    "
      ]
     },
     "metadata": {},
     "output_type": "display_data"
    }
   ],
   "source": [
    "teacherDf[teacherDf$`High School`==\"NDHS\",]"
   ]
  },
  {
   "cell_type": "code",
   "execution_count": 23,
   "id": "64399f15-605b-49d8-96cc-cba4ef36be55",
   "metadata": {},
   "outputs": [],
   "source": [
    "# Check if some students took same AP test multiple times"
   ]
  },
  {
   "cell_type": "code",
   "execution_count": 24,
   "id": "c2dd6e6a-21af-441c-bdf7-dcf3df4286f3",
   "metadata": {
    "tags": []
   },
   "outputs": [
    {
     "data": {
      "text/html": [
       "<table class=\"dataframe\">\n",
       "<caption>A tibble: 4 × 10</caption>\n",
       "<thead>\n",
       "\t<tr><th scope=col>Student Number</th><th scope=col>Score</th><th scope=col>Subject</th><th scope=col>High School</th><th scope=col>Graduating cohort year</th><th scope=col>AP Status</th><th scope=col>FRPL status</th><th scope=col>Ethnicity</th><th scope=col>Gender</th><th scope=col>Teacher Name</th></tr>\n",
       "\t<tr><th scope=col>&lt;dbl&gt;</th><th scope=col>&lt;dbl&gt;</th><th scope=col>&lt;chr&gt;</th><th scope=col>&lt;chr&gt;</th><th scope=col>&lt;dbl&gt;</th><th scope=col>&lt;chr&gt;</th><th scope=col>&lt;chr&gt;</th><th scope=col>&lt;chr&gt;</th><th scope=col>&lt;chr&gt;</th><th scope=col>&lt;chr&gt;</th></tr>\n",
       "</thead>\n",
       "<tbody>\n",
       "\t<tr><td>204899629</td><td>1</td><td>World History</td><td>REH</td><td>2024</td><td>Fail</td><td>R</td><td>Black</td><td>F</td><td>Oktani</td></tr>\n",
       "\t<tr><td>204899629</td><td>2</td><td>World History</td><td>REH</td><td>2024</td><td>Fail</td><td>R</td><td>Black</td><td>F</td><td>Oktani</td></tr>\n",
       "\t<tr><td>206316473</td><td>2</td><td>World History</td><td>REH</td><td>2023</td><td>Fail</td><td>F</td><td>Black</td><td>F</td><td>Oktani</td></tr>\n",
       "\t<tr><td>206316473</td><td>1</td><td>World History</td><td>REH</td><td>2023</td><td>Fail</td><td>F</td><td>Black</td><td>F</td><td>Oktani</td></tr>\n",
       "</tbody>\n",
       "</table>\n"
      ],
      "text/latex": [
       "A tibble: 4 × 10\n",
       "\\begin{tabular}{llllllllll}\n",
       " Student Number & Score & Subject & High School & Graduating cohort year & AP Status & FRPL status & Ethnicity & Gender & Teacher Name\\\\\n",
       " <dbl> & <dbl> & <chr> & <chr> & <dbl> & <chr> & <chr> & <chr> & <chr> & <chr>\\\\\n",
       "\\hline\n",
       "\t 204899629 & 1 & World History & REH & 2024 & Fail & R & Black & F & Oktani\\\\\n",
       "\t 204899629 & 2 & World History & REH & 2024 & Fail & R & Black & F & Oktani\\\\\n",
       "\t 206316473 & 2 & World History & REH & 2023 & Fail & F & Black & F & Oktani\\\\\n",
       "\t 206316473 & 1 & World History & REH & 2023 & Fail & F & Black & F & Oktani\\\\\n",
       "\\end{tabular}\n"
      ],
      "text/markdown": [
       "\n",
       "A tibble: 4 × 10\n",
       "\n",
       "| Student Number &lt;dbl&gt; | Score &lt;dbl&gt; | Subject &lt;chr&gt; | High School &lt;chr&gt; | Graduating cohort year &lt;dbl&gt; | AP Status &lt;chr&gt; | FRPL status &lt;chr&gt; | Ethnicity &lt;chr&gt; | Gender &lt;chr&gt; | Teacher Name &lt;chr&gt; |\n",
       "|---|---|---|---|---|---|---|---|---|---|\n",
       "| 204899629 | 1 | World History | REH | 2024 | Fail | R | Black | F | Oktani |\n",
       "| 204899629 | 2 | World History | REH | 2024 | Fail | R | Black | F | Oktani |\n",
       "| 206316473 | 2 | World History | REH | 2023 | Fail | F | Black | F | Oktani |\n",
       "| 206316473 | 1 | World History | REH | 2023 | Fail | F | Black | F | Oktani |\n",
       "\n"
      ],
      "text/plain": [
       "  Student Number Score Subject       High School Graduating cohort year\n",
       "1 204899629      1     World History REH         2024                  \n",
       "2 204899629      2     World History REH         2024                  \n",
       "3 206316473      2     World History REH         2023                  \n",
       "4 206316473      1     World History REH         2023                  \n",
       "  AP Status FRPL status Ethnicity Gender Teacher Name\n",
       "1 Fail      R           Black     F      Oktani      \n",
       "2 Fail      R           Black     F      Oktani      \n",
       "3 Fail      F           Black     F      Oktani      \n",
       "4 Fail      F           Black     F      Oktani      "
      ]
     },
     "metadata": {},
     "output_type": "display_data"
    }
   ],
   "source": [
    "finalDf %>%\n",
    "  group_by(`Student Number`, Subject) %>%\n",
    "  filter(n() > 1) %>%  # keeps all duplicates\n",
    "  ungroup() %>%\n",
    "  arrange(`Student Number`)"
   ]
  },
  {
   "cell_type": "code",
   "execution_count": 25,
   "id": "77f4c1a0-6d16-47c1-86c8-afc03f4e4ba1",
   "metadata": {},
   "outputs": [],
   "source": [
    "# Write the final data frame to a CSV file\n",
    "\n",
    "final_output_file_path <- file.path(working_dir, \"output\", \"final_output.csv\")\n",
    "write.csv(finalDf, final_output_file_path, row.names = FALSE)\n",
    "\n"
   ]
  },
  {
   "cell_type": "markdown",
   "id": "c884a4b2-98fe-4f8d-b122-1aaca930813d",
   "metadata": {},
   "source": [
    "## 5 - Observations and Conclusion"
   ]
  },
  {
   "cell_type": "markdown",
   "id": "fde6bf42-e965-4358-a121-be9cd0f93586",
   "metadata": {},
   "source": [
    "- The original AP Results dataset contained duplicates, which were removed. All removed rows were saved to `duplicates.csv`.\n",
    "\n",
    " - Inconsistent column names were identified and standardized.\n",
    "\n",
    " - Missing teachers was observed Teacher dataset.\n",
    "\n",
    " - A lack of clarity was noted in certain column names and definitions. For example:\n",
    "\n",
    "        - A column indicating whether the student passed the exam. An AP exam score of 3, 4, or 5 is considered passing.\n",
    "            This column was labeled AP Status with values Pass or Fail, but this may not be consistent with existing dataset from previous years.\n",
    "\n",
    "        - FRPL (Free or Reduced Price Lunch) status. \n",
    "            It is unclear whether this is a transformed field or if same as “Lunch Status” field in the original Student Roster table.\n",
    "\n",
    " - Some students have duplicate records for the same AP test. It is unclear whether this is acceptable or if only the highest score should be retained.\n",
    " \n",
    "**Conclusion:** A brief discussion with stakeholders or a better understanging of the merging process may be sufficient to clarify these questions.\n"
   ]
  },
  {
   "cell_type": "code",
   "execution_count": null,
   "id": "011e490b-0de7-4e70-bddf-4b9bcf204d25",
   "metadata": {},
   "outputs": [],
   "source": []
  }
 ],
 "metadata": {
  "kernelspec": {
   "display_name": "R",
   "language": "R",
   "name": "ir"
  },
  "language_info": {
   "codemirror_mode": "r",
   "file_extension": ".r",
   "mimetype": "text/x-r-source",
   "name": "R",
   "pygments_lexer": "r",
   "version": "4.5.1"
  }
 },
 "nbformat": 4,
 "nbformat_minor": 5
}
